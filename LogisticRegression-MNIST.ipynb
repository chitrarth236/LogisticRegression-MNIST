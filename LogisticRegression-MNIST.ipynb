{
 "cells": [
  {
   "cell_type": "code",
   "execution_count": 1,
   "metadata": {},
   "outputs": [
    {
     "name": "stdout",
     "output_type": "stream",
     "text": [
      "Successfully downloaded train-images-idx3-ubyte.gz 9912422 bytes.\n",
      "Extracting MNIST_data/train-images-idx3-ubyte.gz\n",
      "Successfully downloaded train-labels-idx1-ubyte.gz 28881 bytes.\n",
      "Extracting MNIST_data/train-labels-idx1-ubyte.gz\n",
      "Successfully downloaded t10k-images-idx3-ubyte.gz 1648877 bytes.\n",
      "Extracting MNIST_data/t10k-images-idx3-ubyte.gz\n",
      "Successfully downloaded t10k-labels-idx1-ubyte.gz 4542 bytes.\n",
      "Extracting MNIST_data/t10k-labels-idx1-ubyte.gz\n"
     ]
    }
   ],
   "source": [
    "import tensorflow as tf\n",
    "import matplotlib.pyplot as plt\n",
    "import numpy as np\n",
    "import pandas as pd\n",
    "from tensorflow.examples.tutorials.mnist import input_data\n",
    "mnist = input_data.read_data_sets(\"MNIST_data/\", one_hot=True)\n",
    "%matplotlib inline"
   ]
  },
  {
   "cell_type": "code",
   "execution_count": 2,
   "metadata": {},
   "outputs": [],
   "source": [
    "#Extract MNIST data\n",
    "train_x = mnist.train.images\n",
    "train_y = mnist.train.labels\n",
    "\n",
    "X = tf.placeholder(shape=[None,784],dtype=tf.float32,name=\"X\")\n",
    "Y = tf.placeholder(shape=[None,10],dtype=tf.float32,name=\"Y\")\n",
    "\n",
    "costs = []"
   ]
  },
  {
   "cell_type": "code",
   "execution_count": 3,
   "metadata": {},
   "outputs": [],
   "source": [
    "#hyperparameters\n",
    "\n",
    "training_epoches = 25\n",
    "batch_size = 1000\n",
    "total_batches = int(mnist.train.num_examples/batch_size)\n",
    "\n",
    "W = tf.Variable(tf.random_normal([784,10]))\n",
    "b = tf.Variable(tf.random_normal([10]))"
   ]
  },
  {
   "cell_type": "code",
   "execution_count": 4,
   "metadata": {},
   "outputs": [],
   "source": [
    "#Softmax Activation\n",
    "y_ = tf.nn.softmax(tf.matmul(X,W)+b)\n",
    "\n",
    "#Cost function\n",
    "cost = tf.reduce_mean(-tf.reduce_sum(Y*tf.log(y_ + 1e-10), reduction_indices=1))\n",
    "\n",
    "#Adam Optimizer to minimize the cost\n",
    "optimizer = tf.train.AdamOptimizer(0.01).minimize(cost)\n",
    "\n",
    "#Initializing the variables\n",
    "init = tf.global_variables_initializer()"
   ]
  },
  {
   "cell_type": "code",
   "execution_count": 5,
   "metadata": {},
   "outputs": [
    {
     "name": "stdout",
     "output_type": "stream",
     "text": [
      "cost after epoch 1 : 1.893264\n",
      "cost after epoch 2 : 0.954545\n",
      "cost after epoch 3 : 0.833603\n",
      "cost after epoch 4 : 0.684687\n",
      "cost after epoch 5 : 0.647456\n",
      "cost after epoch 6 : 0.614691\n",
      "cost after epoch 7 : 0.589777\n",
      "cost after epoch 8 : 0.529010\n",
      "cost after epoch 9 : 0.397251\n",
      "cost after epoch 10 : 0.451035\n",
      "cost after epoch 11 : 0.417441\n",
      "cost after epoch 12 : 0.358263\n",
      "cost after epoch 13 : 0.339933\n",
      "cost after epoch 14 : 0.359245\n",
      "cost after epoch 15 : 0.354331\n",
      "cost after epoch 16 : 0.246961\n",
      "cost after epoch 17 : 0.332155\n",
      "cost after epoch 18 : 0.263954\n",
      "cost after epoch 19 : 0.397901\n",
      "cost after epoch 20 : 0.233316\n",
      "cost after epoch 21 : 0.301864\n",
      "cost after epoch 22 : 0.341211\n",
      "cost after epoch 23 : 0.261257\n",
      "cost after epoch 24 : 0.298222\n",
      "cost after epoch 25 : 0.361757\n",
      "Accuracy: 0.9147\n"
     ]
    },
    {
     "data": {
      "image/png": "[encoded data removed]",
      "text/plain": [
       "<matplotlib.figure.Figure at 0x1dbd5793828>"
      ]
     },
     "metadata": {},
     "output_type": "display_data"
    }
   ],
   "source": [
    "#Launch the graph\n",
    "with tf.Session() as sess:\n",
    "    sess.run(init)\n",
    "    #Training session\n",
    "    for epoches in range(training_epoches):\n",
    "        #Loop over all batches\n",
    "        for i in range(total_batches):\n",
    "            xs_batch,ys_batch = mnist.train.next_batch(batch_size)\n",
    "            sess.run(optimizer,feed_dict={X:xs_batch,Y:ys_batch})\n",
    "        print(\"cost after epoch %i : %f\"%(epoches+1,sess.run(cost,feed_dict={X:xs_batch,Y:ys_batch}))) \n",
    "        costs.append(sess.run(cost,feed_dict={X:xs_batch,Y:ys_batch}))\n",
    "    \n",
    "    #accuracy calculation\n",
    "    correct_prediction = tf.equal(tf.argmax(y_, 1), tf.argmax(Y, 1))\n",
    "    accuracy = tf.reduce_mean(tf.cast(correct_prediction, tf.float32))\n",
    "    print(\"Accuracy:\", accuracy.eval({X: mnist.test.images, Y: mnist.test.labels}))\n",
    "    \n",
    "    #plotting cost\n",
    "    plt.plot(costs)\n",
    "    plt.xlabel(\"iterations\")\n",
    "    plt.ylabel(\"cost\")"
   ]
  },
  {
   "cell_type": "code",
   "execution_count": null,
   "metadata": {},
   "outputs": [],
   "source": []
  }
 ],
 "metadata": {
  "kernelspec": {
   "display_name": "Python 3",
   "language": "python",
   "name": "python3"
  },
  "language_info": {
   "codemirror_mode": {
    "name": "ipython",
    "version": 3
   },
   "file_extension": ".py",
   "mimetype": "text/x-python",
   "name": "python",
   "nbconvert_exporter": "python",
   "pygments_lexer": "ipython3",
   "version": "3.6.0"
  }
 },
 "nbformat": 4,
 "nbformat_minor": 2
}
